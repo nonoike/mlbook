{
 "cells": [
  {
   "cell_type": "markdown",
   "metadata": {},
   "source": [
    "# ダミーデータを使ったサンプル"
   ]
  },
  {
   "cell_type": "markdown",
   "metadata": {},
   "source": [
    "## ライブラリのインポート"
   ]
  },
  {
   "cell_type": "code",
   "execution_count": 1,
   "metadata": {
    "collapsed": true
   },
   "outputs": [],
   "source": [
    "%matplotlib inline\n",
    "from __future__ import print_function\n",
    "\n",
    "try:\n",
    "    xrange\n",
    "except NameError:\n",
    "    xrange = range\n",
    "\n",
    "import matplotlib.pyplot as plt\n",
    "import numpy as np\n",
    "import pandas as pd\n",
    "import scipy.spatial as sp\n",
    "import scipy.sparse as sparse\n",
    "from sklearn.decomposition import NMF, TruncatedSVD"
   ]
  },
  {
   "cell_type": "markdown",
   "metadata": {},
   "source": [
    "## ダミーデータ作成"
   ]
  },
  {
   "cell_type": "code",
   "execution_count": 2,
   "metadata": {},
   "outputs": [],
   "source": [
    "rating_matrix = np.array([[2, 5, 1, 1, 0, 1, 2, 4],\n",
    "                          [1, 5, 2, 1, 4, 0, 0, 3],\n",
    "                          [0, 3, 3, 0, 1, 1, 1, 1],\n",
    "                          [5, 2, 2, 3, 1, 0, 0, 4],\n",
    "                          [5, 3, 3, 4, 1, 0, 0, 5],\n",
    "                          [1, 4, 3, 2, 5, 1, 0, 1],\n",
    "                          [0, 0, 0, 0, 0, 0, 0, 2],\n",
    "                          [0, 4, 0, 0, 0, 0, 0, 0]])"
   ]
  },
  {
   "cell_type": "markdown",
   "metadata": {},
   "source": [
    "## 協調フィルタリング"
   ]
  },
  {
   "cell_type": "markdown",
   "metadata": {},
   "source": [
    "### 類似度計算のステップ"
   ]
  },
  {
   "cell_type": "code",
   "execution_count": 3,
   "metadata": {},
   "outputs": [
    {
     "data": {
      "text/plain": [
       "array([ 1.        ,  0.77831178,  0.73914049,  0.7402121 ,  0.78215389,\n",
       "        0.58777469,  0.5547002 ,  0.69337525])"
      ]
     },
     "execution_count": 3,
     "metadata": {},
     "output_type": "execute_result"
    }
   ],
   "source": [
    "target_user = 0\n",
    "\n",
    "# コサイン類似度 = 1- コサイン距離\n",
    "user_similarity = np.array([1 - sp.distance.cosine(rating_matrix[target_user], rating_matrix[i]) for i in range(len(rating_matrix))])\n",
    "user_similarity"
   ]
  },
  {
   "cell_type": "code",
   "execution_count": 4,
   "metadata": {
    "scrolled": true
   },
   "outputs": [
    {
     "name": "stdout",
     "output_type": "stream",
     "text": [
      "[(4, array([5, 3, 3, 4, 1, 0, 0, 5])), (1, array([1, 5, 2, 1, 4, 0, 0, 3])), (3, array([5, 2, 2, 3, 1, 0, 0, 4])), (2, array([0, 3, 3, 0, 1, 1, 1, 1]))]\n"
     ]
    }
   ],
   "source": [
    "topN = 4\n",
    "user_idx = np.array(range(0, len(rating_matrix)))\n",
    "\n",
    "# 降順ソート\n",
    "arg_sort = np.argsort(user_similarity)[::-1]\n",
    "\n",
    "# 自分を覗いたトップN\n",
    "selected_idx = arg_sort[1:topN + 1]\n",
    "\n",
    "print([(idx, matrix) for (idx, matrix) in zip(selected_idx, rating_matrix[selected_idx])])\n",
    "selected_user_similarity = user_similarity[selected_idx]\n",
    "selected_rating_matrix = rating_matrix[selected_idx]"
   ]
  },
  {
   "cell_type": "markdown",
   "metadata": {},
   "source": [
    "### 予測のステップ"
   ]
  },
  {
   "cell_type": "code",
   "execution_count": 5,
   "metadata": {},
   "outputs": [
    {
     "name": "stdout",
     "output_type": "stream",
     "text": [
      "0th item:2.76008004028\n",
      "1th item:3.26857245915\n",
      "2th item:2.50045570209\n",
      "3th item:2.01576643714\n",
      "4th item:1.76811675706\n",
      "5th item:0.243152856729\n",
      "6th item:0.243152856729\n",
      "7th item:3.27180535615\n"
     ]
    }
   ],
   "source": [
    "avg_score = []\n",
    "for col_idx in range(selected_rating_matrix.shape[1]):\n",
    "    weight_score = sum(selected_rating_matrix[:, col_idx] * selected_user_similarity)\n",
    "    similarity_sum = sum(selected_user_similarity[selected_user_similarity > 0])\n",
    "    avg_score.append(weight_score / similarity_sum)\n",
    "\n",
    "for (i, v) in enumerate(avg_score):\n",
    "    print(str(i) + 'th item:' + str(v))"
   ]
  },
  {
   "cell_type": "markdown",
   "metadata": {},
   "source": [
    "# ニュースアプリにおけるレコメンデーションの例"
   ]
  },
  {
   "cell_type": "code",
   "execution_count": null,
   "metadata": {},
   "outputs": [],
   "source": [
    "data = pd.read_csv(\"./dataset/user_topic_follow_dummy.csv\", encoding=\"utf-8\")\n",
    "display(data.head())\n",
    "display(data.shape)\n",
    "display(len(data['user_id'].unique()))\n",
    "display(len(data['topic_name'].unique()))\n",
    "display(data.isnull().any())"
   ]
  },
  {
   "cell_type": "code",
   "execution_count": null,
   "metadata": {},
   "outputs": [],
   "source": [
    "data.drop_duplicates(keep='last', inplace=True)"
   ]
  },
  {
   "cell_type": "code",
   "execution_count": null,
   "metadata": {
    "scrolled": true
   },
   "outputs": [],
   "source": [
    "converted_dummies = pd.get_dummies(data, drop_first = True)\n",
    "converted_dummies"
   ]
  }
 ],
 "metadata": {
  "kernelspec": {
   "display_name": "Python 3",
   "language": "python",
   "name": "python3"
  },
  "language_info": {
   "codemirror_mode": {
    "name": "ipython",
    "version": 3
   },
   "file_extension": ".py",
   "mimetype": "text/x-python",
   "name": "python",
   "nbconvert_exporter": "python",
   "pygments_lexer": "ipython3",
   "version": "3.6.2"
  }
 },
 "nbformat": 4,
 "nbformat_minor": 2
}
